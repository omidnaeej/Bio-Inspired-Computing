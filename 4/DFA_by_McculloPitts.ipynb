version https://git-lfs.github.com/spec/v1
oid sha256:0bb320a104bf10045d5822390f12c6635fe3e9cedeb23b4e986753fe2fa79e94
size 3521
